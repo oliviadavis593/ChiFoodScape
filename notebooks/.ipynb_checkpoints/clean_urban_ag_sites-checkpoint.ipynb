{
 "cells": [
  {
   "cell_type": "code",
   "execution_count": null,
   "metadata": {
    "vscode": {
     "languageId": "plaintext"
    }
   },
   "outputs": [],
   "source": [
    "# 📦 Imports\n",
    "import pandas as pd\n",
    "import os\n",
    "\n",
    "# 📍 File paths\n",
    "RAW_PATH = '../data/raw/urban_agriculture_sites.csv'\n",
    "CLEAN_PATH = '../data/cleaned/urban_agriculture_sites_cleaned.csv'\n",
    "\n",
    "# 📥 Load data\n",
    "df = pd.read_csv(RAW_PATH)\n",
    "print(f\"✅ Loaded raw urban ag dataset: {df.shape[0]} rows\")\n",
    "\n",
    "# ✂️ Keep only relevant columns\n",
    "columns_to_keep = [\n",
    "    'Site Name', 'Address', 'City', 'Zip', 'Latitude', 'Longitude', 'Site Type'\n",
    "]\n",
    "df = df[columns_to_keep]\n",
    "\n",
    "# 🧹 Drop rows with missing or invalid coordinates\n",
    "df = df.dropna(subset=['Latitude', 'Longitude'])\n",
    "df = df[(df['Latitude'] != 0) & (df['Longitude'] != 0)]\n",
    "\n",
    "# 🔠 Normalize text\n",
    "df['Site Name'] = df['Site Name'].str.title().str.strip()\n",
    "df['Address'] = df['Address'].str.title().str.strip()\n",
    "df['City'] = df['City'].str.title().str.strip()\n",
    "df['Site Type'] = df['Site Type'].str.title().str.strip()\n",
    "\n",
    "# 🧼 Clean up ZIP codes\n",
    "df['Zip'] = df['Zip'].astype(str).str.extract(r'(\\d{5})')  # extract 5-digit ZIPs\n",
    "\n",
    "# 💾 Save cleaned dataset\n",
    "os.makedirs(os.path.dirname(CLEAN_PATH), exist_ok=True)\n",
    "df.to_csv(CLEAN_PATH, index=False)\n",
    "print(f\"✅ Cleaned urban ag dataset saved to: {CLEAN_PATH}\")\n"
   ]
  }
 ],
 "metadata": {
  "language_info": {
   "name": "python"
  }
 },
 "nbformat": 4,
 "nbformat_minor": 2
}
