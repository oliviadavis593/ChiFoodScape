{
 "cells": [
  {
   "cell_type": "code",
   "execution_count": null,
   "id": "ad10525f",
   "metadata": {},
   "outputs": [
    {
     "ename": "",
     "evalue": "",
     "output_type": "error",
     "traceback": [
      "\u001b[1;31mRunning cells with 'Python 3.9.6' requires the ipykernel package.\n",
      "\u001b[1;31mInstall 'ipykernel' into the Python environment. \n",
      "\u001b[1;31mCommand: '/usr/bin/python3 -m pip install ipykernel -U --user --force-reinstall'"
     ]
    }
   ],
   "source": [
    "import pandas as pd\n",
    "import folium\n",
    "\n",
    "# Load cleaned farm data\n",
    "df = pd.read_csv('../data/cleaned/urban_agriculture_sites_cleaned.csv')\n",
    "\n",
    "print(\"✅ Loaded cleaned urban farm dataset\")\n",
    "print(df.shape)\n",
    "print(df.head())\n",
    "\n",
    "# Create base map centered on Chicago\n",
    "m = folium.Map(location=[41.8781, -87.6298], zoom_start=11)\n",
    "\n",
    "# Add farm markers\n",
    "for _, row in df.iterrows():\n",
    "    folium.Marker(\n",
    "        location=[row['LATITUDE'], row['LONGITUDE']],\n",
    "        popup=row['ADDRESS'],\n",
    "        icon=folium.Icon(color='green', icon='leaf')\n",
    "    ).add_to(m)\n",
    "\n",
    "# Display the map\n",
    "m\n"
   ]
  }
 ],
 "metadata": {
  "kernelspec": {
   "display_name": "Python 3",
   "language": "python",
   "name": "python3"
  },
  "language_info": {
   "name": "python",
   "version": "3.9.6"
  }
 },
 "nbformat": 4,
 "nbformat_minor": 5
}
