{
 "cells": [
  {
   "cell_type": "code",
   "execution_count": 4,
   "metadata": {
    "vscode": {
     "languageId": "plaintext"
    }
   },
   "outputs": [
    {
     "name": "stdout",
     "output_type": "stream",
     "text": [
      "✅ Merged real store review updates saved to ../data/cleaned/grocery_stores_cleaned_v3.csv\n"
     ]
    }
   ],
   "source": [
    "import pandas as pd\n",
    "import os\n",
    "\n",
    "# Paths\n",
    "CLEANED_PATH = \"../data/cleaned/grocery_stores_cleaned_v2.csv\"\n",
    "REAL_REVIEW_PATH = \"../data/real_review/\"\n",
    "OUTPUT_PATH = \"../data/cleaned/grocery_stores_cleaned_v3.csv\"\n",
    "\n",
    "# Load base cleaned data\n",
    "df = pd.read_csv(CLEANED_PATH)\n",
    "\n",
    "# Load and combine all reviewed real files\n",
    "real_files = [\n",
    "    os.path.join(REAL_REVIEW_PATH, f) \n",
    "    for f in os.listdir(REAL_REVIEW_PATH) \n",
    "    if f.endswith(\".csv\")\n",
    "]\n",
    "real = pd.concat([pd.read_csv(f) for f in real_files], ignore_index=True)\n",
    "\n",
    "# Check available columns\n",
    "available_cols = real.columns.tolist()\n",
    "required_cols = ['Address', 'DBA Name', 'IS_REAL_GROCERY', 'IS_JUNK_STORE']\n",
    "optional_cols = ['REVIEW_NOTES']\n",
    "merge_cols = required_cols + [col for col in optional_cols if col in available_cols]\n",
    "\n",
    "# Warn if optional column is missing\n",
    "for col in optional_cols:\n",
    "    if col not in available_cols:\n",
    "        print(f\"⚠️ Optional column missing from review data: {col}\")\n",
    "\n",
    "# Subset and merge\n",
    "real_subset = real[merge_cols]\n",
    "df = df.merge(real_subset, on=['Address', 'DBA Name'], how='left', suffixes=('', '_REVIEW'))\n",
    "\n",
    "# Apply updates\n",
    "df['IS_REAL_GROCERY'] = df['IS_REAL_GROCERY_REVIEW'].combine_first(df['IS_REAL_GROCERY'])\n",
    "df['IS_JUNK_STORE'] = df['IS_JUNK_STORE_REVIEW'].combine_first(df['IS_JUNK_STORE'])\n",
    "\n",
    "if 'REVIEW_NOTES_REVIEW' in df.columns:\n",
    "    df['REVIEW_NOTES'] = df['REVIEW_NOTES_REVIEW'].combine_first(df['REVIEW_NOTES'])\n",
    "\n",
    "# Drop temp review columns\n",
    "df.drop(columns=[col for col in df.columns if col.endswith('_REVIEW')], inplace=True)\n",
    "\n",
    "# Save final merged version\n",
    "df.to_csv(OUTPUT_PATH, index=False)\n",
    "print(f\"✅ Merged real store review updates saved to {OUTPUT_PATH}\")\n"
   ]
  },
  {
   "cell_type": "code",
   "execution_count": null,
   "metadata": {},
   "outputs": [],
   "source": []
  }
 ],
 "metadata": {
  "kernelspec": {
   "display_name": "Python 3 (ipykernel)",
   "language": "python",
   "name": "python3"
  },
  "language_info": {
   "codemirror_mode": {
    "name": "ipython",
    "version": 3
   },
   "file_extension": ".py",
   "mimetype": "text/x-python",
   "name": "python",
   "nbconvert_exporter": "python",
   "pygments_lexer": "ipython3",
   "version": "3.9.6"
  }
 },
 "nbformat": 4,
 "nbformat_minor": 4
}
