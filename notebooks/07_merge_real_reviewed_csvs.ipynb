{
 "cells": [
  {
   "cell_type": "code",
   "execution_count": 1,
   "metadata": {
    "vscode": {
     "languageId": "plaintext"
    }
   },
   "outputs": [
    {
     "name": "stdout",
     "output_type": "stream",
     "text": [
      "✅ Merged real store review updates saved to ../data/cleaned/grocery_stores_cleaned_v3.csv\n"
     ]
    }
   ],
   "source": [
    "import pandas as pd\n",
    "import os\n",
    "\n",
    "# Paths\n",
    "CLEANED_PATH = \"../data/cleaned/grocery_stores_cleaned_v2.csv\"\n",
    "REAL_REVIEW_PATH = \"../data/real_review/\"\n",
    "OUTPUT_PATH = \"../data/cleaned/grocery_stores_cleaned_v3.csv\"\n",
    "\n",
    "# Load base cleaned data\n",
    "df = pd.read_csv(CLEANED_PATH)\n",
    "\n",
    "# Load and combine all reviewed real files\n",
    "real_files = [\n",
    "    os.path.join(REAL_REVIEW_PATH, f) \n",
    "    for f in os.listdir(REAL_REVIEW_PATH) \n",
    "    if f.endswith(\".csv\")\n",
    "]\n",
    "real = pd.concat([pd.read_csv(f) for f in real_files], ignore_index=True)\n",
    "\n",
    "# Ensure expected columns are present\n",
    "required_cols = ['Address', 'DBA Name', 'IS_REAL_GROCERY', 'IS_JUNK_STORE', 'REVIEW_NOTES']\n",
    "missing_cols = [col for col in required_cols if col not in real.columns]\n",
    "if missing_cols:\n",
    "    raise ValueError(f\"Missing expected columns in review files: {missing_cols}\")\n",
    "\n",
    "# Select and merge review info\n",
    "real_subset = real[required_cols]\n",
    "\n",
    "# Merge updated flags into original data\n",
    "df = df.merge(\n",
    "    real_subset,\n",
    "    on=['Address', 'DBA Name'],\n",
    "    how='left',\n",
    "    suffixes=('', '_REVIEW')\n",
    ")\n",
    "\n",
    "# Overwrite values if reviewed versions exist\n",
    "df['IS_REAL_GROCERY'] = df['IS_REAL_GROCERY_REVIEW'].combine_first(df['IS_REAL_GROCERY'])\n",
    "df['IS_JUNK_STORE'] = df['IS_JUNK_STORE_REVIEW'].combine_first(df['IS_JUNK_STORE'])\n",
    "df['REVIEW_NOTES'] = df['REVIEW_NOTES_REVIEW'].combine_first(df['REVIEW_NOTES'])\n",
    "\n",
    "# Drop temp columns\n",
    "df.drop(columns=[col for col in df.columns if col.endswith('_REVIEW')], inplace=True)\n",
    "\n",
    "# Save final merged version\n",
    "df.to_csv(OUTPUT_PATH, index=False)\n",
    "print(f\"✅ Merged real store review updates saved to {OUTPUT_PATH}\")\n"
   ]
  },
  {
   "cell_type": "code",
   "execution_count": null,
   "metadata": {},
   "outputs": [],
   "source": []
  }
 ],
 "metadata": {
  "kernelspec": {
   "display_name": "Python 3 (ipykernel)",
   "language": "python",
   "name": "python3"
  },
  "language_info": {
   "codemirror_mode": {
    "name": "ipython",
    "version": 3
   },
   "file_extension": ".py",
   "mimetype": "text/x-python",
   "name": "python",
   "nbconvert_exporter": "python",
   "pygments_lexer": "ipython3",
   "version": "3.9.6"
  }
 },
 "nbformat": 4,
 "nbformat_minor": 4
}
