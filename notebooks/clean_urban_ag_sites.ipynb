{
 "cells": [
  {
   "cell_type": "code",
   "execution_count": 14,
   "metadata": {
    "vscode": {
     "languageId": "plaintext"
    }
   },
   "outputs": [
    {
     "name": "stdout",
     "output_type": "stream",
     "text": [
      "✅ Loaded raw urban ag dataset: 11 rows\n",
      "📊 Columns: ['ADDRESS', 'LATITUDE', 'LONGITUDE', 'LOCATION']\n",
      "✅ Cleaned urban ag dataset saved to: ../data/cleaned/urban_agriculture_sites_cleaned.csv\n"
     ]
    }
   ],
   "source": [
    "# 📦 Imports\n",
    "import pandas as pd\n",
    "import os\n",
    "\n",
    "# 📍 File paths\n",
    "RAW_PATH = '../data/raw/urban_agriculture_sites.csv'\n",
    "CLEAN_PATH = '../data/cleaned/urban_agriculture_sites_cleaned.csv'\n",
    "\n",
    "# 📥 Load data\n",
    "df = pd.read_csv(RAW_PATH)\n",
    "print(f\"✅ Loaded raw urban ag dataset: {df.shape[0]} rows\")\n",
    "print(\"📊 Columns:\", df.columns.tolist())\n",
    "\n",
    "\n",
    "# ✂️ Keep only relevant columns\n",
    "columns_to_keep = [\n",
    "    'ADDRESS', 'LATITUDE', 'LONGITUDE', 'LOCATION'\n",
    "]\n",
    "df = df[columns_to_keep]\n",
    "\n",
    "# 🧹 Drop rows with missing or invalid coordinates\n",
    "df = df.dropna(subset=['LATITUDE', 'LONGITUDE'])\n",
    "df = df[(df['LATITUDE'] != 0) & (df['LONGITUDE'] != 0)]\n",
    "\n",
    "# 🔠 Normalize text\n",
    "df['ADDRESS'] = df['ADDRESS'].str.title().str.strip()\n",
    "df['LOCATION'] = df['ADDRESS'].str.title().str.strip()\n",
    "\n",
    "\n",
    "# 💾 Save cleaned dataset\n",
    "os.makedirs(os.path.dirname(CLEAN_PATH), exist_ok=True)\n",
    "df.to_csv(CLEAN_PATH, index=False)\n",
    "print(f\"✅ Cleaned urban ag dataset saved to: {CLEAN_PATH}\")\n",
    "\n"
   ]
  },
  {
   "cell_type": "code",
   "execution_count": null,
   "metadata": {},
   "outputs": [],
   "source": []
  }
 ],
 "metadata": {
  "kernelspec": {
   "display_name": "Python 3 (ipykernel)",
   "language": "python",
   "name": "python3"
  },
  "language_info": {
   "codemirror_mode": {
    "name": "ipython",
    "version": 3
   },
   "file_extension": ".py",
   "mimetype": "text/x-python",
   "name": "python",
   "nbconvert_exporter": "python",
   "pygments_lexer": "ipython3",
   "version": "3.9.6"
  }
 },
 "nbformat": 4,
 "nbformat_minor": 4
}
