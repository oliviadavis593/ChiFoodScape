{
 "cells": [
  {
   "cell_type": "code",
   "execution_count": 1,
   "metadata": {
    "vscode": {
     "languageId": "plaintext"
    }
   },
   "outputs": [
    {
     "name": "stdout",
     "output_type": "stream",
     "text": [
      "Grocery points: (4503, 28)\n",
      "Community polygons: (77, 6)\n",
      "✅ Spatial join complete and saved.\n"
     ]
    }
   ],
   "source": [
    "import geopandas as gpd\n",
    "import pandas as pd\n",
    "\n",
    "# Load grocery store data\n",
    "df = pd.read_csv(\"../data/cleaned/grocery_stores_v1_curated.csv\")\n",
    "\n",
    "# Convert to GeoDataFrame\n",
    "gdf = gpd.GeoDataFrame(\n",
    "    df,\n",
    "    geometry=gpd.points_from_xy(df[\"Longitude\"], df[\"Latitude\"]),\n",
    "    crs=\"EPSG:4326\"\n",
    ")\n",
    "\n",
    "# Load community area polygons\n",
    "community_areas = gpd.read_file(\"../data/geo/community_areas.geojson\")\n",
    "\n",
    "# Drop sjoin conflict column if present in either GeoDataFrame\n",
    "if \"index_right\" in gdf.columns:\n",
    "    gdf = gdf.drop(columns=[\"index_right\"])\n",
    "if \"index_right\" in community_areas.columns:\n",
    "    community_areas = community_areas.drop(columns=[\"index_right\"])\n",
    "\n",
    "print(f\"Grocery points: {gdf.shape}\")\n",
    "print(f\"Community polygons: {community_areas.shape}\")\n",
    "\n",
    "# Perform spatial join\n",
    "joined = gpd.sjoin(gdf, community_areas, how=\"left\", predicate=\"within\")\n",
    "\n",
    "# Clean up columns\n",
    "joined = joined.rename(columns={\"community\": \"Community\", \"area_numbe\": \"AreaNumber\"})\n",
    "joined[[\"DBA Name\", \"Address\", \"Community\", \"AreaNumber\"]].head()\n",
    "\n",
    "# Save to file\n",
    "joined.to_csv(\"../data/cleaned/grocery_stores_v1_curated.csv\", index=False)\n",
    "print(\"✅ Spatial join complete and saved.\")\n"
   ]
  },
  {
   "cell_type": "code",
   "execution_count": null,
   "metadata": {},
   "outputs": [],
   "source": []
  },
  {
   "cell_type": "code",
   "execution_count": null,
   "metadata": {},
   "outputs": [],
   "source": []
  }
 ],
 "metadata": {
  "kernelspec": {
   "display_name": "Python 3 (ipykernel)",
   "language": "python",
   "name": "python3"
  },
  "language_info": {
   "codemirror_mode": {
    "name": "ipython",
    "version": 3
   },
   "file_extension": ".py",
   "mimetype": "text/x-python",
   "name": "python",
   "nbconvert_exporter": "python",
   "pygments_lexer": "ipython3",
   "version": "3.9.6"
  }
 },
 "nbformat": 4,
 "nbformat_minor": 4
}
