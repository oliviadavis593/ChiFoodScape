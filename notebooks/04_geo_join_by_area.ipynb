{
 "cells": [
  {
   "cell_type": "code",
   "execution_count": 25,
   "metadata": {
    "vscode": {
     "languageId": "plaintext"
    }
   },
   "outputs": [
    {
     "name": "stdout",
     "output_type": "stream",
     "text": [
      "Grocery points: (4503, 16)\n",
      "Community polygons: (77, 6)\n"
     ]
    }
   ],
   "source": [
    "import geopandas as gpd\n",
    "import pandas as pd\n",
    "\n",
    "# Load cleaned grocery store dataset\n",
    "df = pd.read_csv(\"../data/cleaned/grocery_stores_cleaned_v1.csv\")\n",
    "\n",
    "# Convert to GeoDataFrame\n",
    "gdf = gpd.GeoDataFrame(\n",
    "    df,\n",
    "    geometry=gpd.points_from_xy(df['Longitude'], df['Latitude']),\n",
    "    crs=\"EPSG:4326\"\n",
    ")\n",
    "\n",
    "# Load Community Areas GeoJSON\n",
    "community_areas = gpd.read_file(\"../data/geo/community_areas.geojson\")\n",
    "\n",
    "# Quick check\n",
    "print(f\"Grocery points: {gdf.shape}\")\n",
    "print(f\"Community polygons: {community_areas.shape}\")\n",
    "\n",
    "# Spatial join: match each grocery point to a community polygon\n",
    "joined = gpd.sjoin(gdf, community_areas, how=\"left\", predicate=\"within\")\n",
    "\n",
    "# Clean up and inspect\n",
    "joined = joined.rename(columns={\"community\": \"Community\", \"area_numbe\": \"AreaNumber\"})\n",
    "joined[['DBA Name', 'Address', 'Community', 'AreaNumber']].head()\n",
    "\n",
    "joined.to_csv(\"../data/cleaned/grocery_stores_with_community.csv\", index=False)\n",
    "\n"
   ]
  },
  {
   "cell_type": "code",
   "execution_count": null,
   "metadata": {},
   "outputs": [],
   "source": []
  },
  {
   "cell_type": "code",
   "execution_count": null,
   "metadata": {},
   "outputs": [],
   "source": []
  }
 ],
 "metadata": {
  "kernelspec": {
   "display_name": "Python 3 (ipykernel)",
   "language": "python",
   "name": "python3"
  },
  "language_info": {
   "codemirror_mode": {
    "name": "ipython",
    "version": 3
   },
   "file_extension": ".py",
   "mimetype": "text/x-python",
   "name": "python",
   "nbconvert_exporter": "python",
   "pygments_lexer": "ipython3",
   "version": "3.9.6"
  }
 },
 "nbformat": 4,
 "nbformat_minor": 4
}
