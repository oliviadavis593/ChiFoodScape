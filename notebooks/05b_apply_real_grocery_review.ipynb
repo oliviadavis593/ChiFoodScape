{
 "cells": [
  {
   "cell_type": "code",
   "execution_count": 1,
   "metadata": {
    "vscode": {
     "languageId": "plaintext"
    }
   },
   "outputs": [
    {
     "name": "stdout",
     "output_type": "stream",
     "text": [
      "✅ Review file columns: ['DBA Name', 'Address', 'Zip', 'IS_REAL_GROCERY', 'IS_REVIEWED_REAL', 'REVIEW_NOTES']\n",
      "✅ Merged Austin review and saved to: ../data/cleaned/grocery_stores_v1_curated.csv\n"
     ]
    }
   ],
   "source": [
    "import pandas as pd\n",
    "\n",
    "# Load original dataset\n",
    "df = pd.read_csv(\"../data/cleaned/grocery_stores_with_community.csv\")\n",
    "\n",
    "# Load updated Austin review\n",
    "austin_review = pd.read_csv(\"../data/review/austin_real_grocery_review.csv\")\n",
    "\n",
    "# Strip any trailing spaces from column headers\n",
    "austin_review.columns = austin_review.columns.str.strip()\n",
    "\n",
    "# Debug column names\n",
    "print(\"✅ Review file columns:\", austin_review.columns.tolist())\n",
    "\n",
    "# Merge the review back into the full dataset\n",
    "df_updated = df.merge(\n",
    "    austin_review[[\"DBA Name\", \"Address\", \"Zip\", \"IS_REVIEWED_REAL\", \"REVIEW_NOTES\"]],\n",
    "    on=[\"DBA Name\", \"Address\", \"Zip\"],\n",
    "    how=\"left\"\n",
    ")\n",
    "\n",
    "# Where reviewed flag exists, override IS_REAL_GROCERY\n",
    "df_updated[\"IS_REAL_GROCERY\"] = df_updated.apply(\n",
    "    lambda row: row[\"IS_REVIEWED_REAL\"] if pd.notnull(row[\"IS_REVIEWED_REAL\"]) else row[\"IS_REAL_GROCERY\"],\n",
    "    axis=1\n",
    ")\n",
    "\n",
    "# Save updated dataset\n",
    "output_path = \"../data/cleaned/grocery_stores_v1_curated.csv\"\n",
    "df_updated.to_csv(output_path, index=False)\n",
    "\n",
    "print(f\"✅ Merged Austin review and saved to: {output_path}\")\n"
   ]
  },
  {
   "cell_type": "code",
   "execution_count": null,
   "metadata": {},
   "outputs": [],
   "source": []
  },
  {
   "cell_type": "code",
   "execution_count": null,
   "metadata": {},
   "outputs": [],
   "source": []
  }
 ],
 "metadata": {
  "kernelspec": {
   "display_name": "Python 3 (ipykernel)",
   "language": "python",
   "name": "python3"
  },
  "language_info": {
   "codemirror_mode": {
    "name": "ipython",
    "version": 3
   },
   "file_extension": ".py",
   "mimetype": "text/x-python",
   "name": "python",
   "nbconvert_exporter": "python",
   "pygments_lexer": "ipython3",
   "version": "3.9.6"
  }
 },
 "nbformat": 4,
 "nbformat_minor": 4
}
