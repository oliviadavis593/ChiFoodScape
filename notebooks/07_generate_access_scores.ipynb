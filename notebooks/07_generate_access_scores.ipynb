{
 "cells": [
  {
   "cell_type": "code",
   "execution_count": 1,
   "metadata": {
    "vscode": {
     "languageId": "plaintext"
    }
   },
   "outputs": [
    {
     "name": "stderr",
     "output_type": "stream",
     "text": [
      "/Users/archangel/Desktop/chi-food-access-map/venv/lib/python3.9/site-packages/urllib3/__init__.py:35: NotOpenSSLWarning: urllib3 v2 only supports OpenSSL 1.1.1+, currently the 'ssl' module is compiled with 'LibreSSL 2.8.3'. See: https://github.com/urllib3/urllib3/issues/3020\n",
      "  warnings.warn(\n"
     ]
    },
    {
     "name": "stdout",
     "output_type": "stream",
     "text": [
      "✅ Access score choropleth with labels saved to ../docs/access_score_choropleth.html\n"
     ]
    }
   ],
   "source": [
    "import geopandas as gpd\n",
    "import pandas as pd\n",
    "import folium\n",
    "from folium.features import DivIcon\n",
    "from branca.colormap import StepColormap\n",
    "\n",
    "# Load scored GeoDataFrame (already merged with StoreCount and AccessScore)\n",
    "geo = gpd.read_file(\"../data/cleaned/community_area_scores.geojson\")\n",
    "# Create map\n",
    "m = folium.Map(location=[41.8781, -87.6298], zoom_start=11)\n",
    "\n",
    "# Define color scale\n",
    "colormap = StepColormap(\n",
    "    colors=[\n",
    "        '#b30000',\n",
    "        '#f03b20',\n",
    "        '#fc9272',\n",
    "        '#ffff33',\n",
    "        '#31a354'\n",
    "    ],\n",
    "    index=[0,1,2,3,4,5],\n",
    "    vmin=0,\n",
    "    vmax=4,\n",
    "    caption=\"Access Score\"\n",
    ")\n",
    "\n",
    "# Add community polygons\n",
    "folium.GeoJson(\n",
    "    geo,\n",
    "    style_function=lambda feature: {\n",
    "        'fillColor': colormap(feature['properties']['AccessScore']),\n",
    "        'color': 'black',\n",
    "        'weight': 1,\n",
    "        'fillOpacity': 0.6\n",
    "    },\n",
    "    tooltip=folium.GeoJsonTooltip(fields=[\"Community\", \"StoreCount\", \"AccessScore\"])\n",
    ").add_to(m)\n",
    "\n",
    "# Add text labels for AccessScore at polygon centroids\n",
    "for _, row in geo.iterrows():\n",
    "    centroid = row['geometry'].centroid\n",
    "    folium.map.Marker(\n",
    "        [centroid.y, centroid.x],\n",
    "        icon=DivIcon(\n",
    "            icon_size=(150,36),\n",
    "            icon_anchor=(0,0),\n",
    "            html=f'<div style=\"font-size: 12pt; font-weight: bold; color: black;\">{int(row[\"AccessScore\"])}</div>',\n",
    "        )\n",
    "    ).add_to(m)\n",
    "\n",
    "\n",
    "# Add color scale\n",
    "colormap.add_to(m)\n",
    "\n",
    "# Save the map\n",
    "m.save(\"../docs/access_score_choropleth.html\")\n",
    "print(\"✅ Access score choropleth with labels saved to ../docs/access_score_choropleth.html\")\n"
   ]
  },
  {
   "cell_type": "code",
   "execution_count": null,
   "metadata": {},
   "outputs": [],
   "source": []
  }
 ],
 "metadata": {
  "kernelspec": {
   "display_name": "Python 3 (ipykernel)",
   "language": "python",
   "name": "python3"
  },
  "language_info": {
   "codemirror_mode": {
    "name": "ipython",
    "version": 3
   },
   "file_extension": ".py",
   "mimetype": "text/x-python",
   "name": "python",
   "nbconvert_exporter": "python",
   "pygments_lexer": "ipython3",
   "version": "3.9.6"
  }
 },
 "nbformat": 4,
 "nbformat_minor": 4
}
