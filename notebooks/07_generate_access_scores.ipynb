{
 "cells": [
  {
   "cell_type": "code",
   "execution_count": 3,
   "metadata": {
    "vscode": {
     "languageId": "plaintext"
    }
   },
   "outputs": [
    {
     "name": "stdout",
     "output_type": "stream",
     "text": [
      "✅ Access score Choropleth with labels saved to ../docs/access_score_choropleth.html\n"
     ]
    }
   ],
   "source": [
    "import geopandas as gpd\n",
    "import pandas as pd\n",
    "import folium\n",
    "from folium.features import DivIcon\n",
    "from branca.colormap import StepColormap\n",
    "\n",
    "# Load scored GeoDataFrame (already merged with StoreCount and AccessScore)\n",
    "geo = gpd.read_file(\"../data/cleaned/community_area_scores.geojson\")\n",
    "\n",
    "# Turn raw 0–4 scores into named categories\n",
    "bins = [0, 1, 2, 3, 4, 5]\n",
    "labels = [\"Very Low\", \"Low\", \"Moderate\", \"Good\", \"Excellent\"]\n",
    "geo[\"AccessCat\"] = pd.cut(\n",
    "    geo[\"AccessScore\"],\n",
    "    bins=bins,\n",
    "    labels=labels,\n",
    "    include_lowest=True,\n",
    "    right=False\n",
    ")\n",
    "\n",
    "# Create map\n",
    "m = folium.Map(location=[41.8781, -87.6298], zoom_start=11)\n",
    "\n",
    "# Define color scale\n",
    "colormap = StepColormap(\n",
    "    colors=[\n",
    "        '#b30000',\n",
    "        '#f03b20',\n",
    "        '#fc9272',\n",
    "        '#ffff33',\n",
    "        '#31a354'\n",
    "    ],\n",
    "    index=bins,\n",
    "    vmin=0,\n",
    "    vmax=4,\n",
    "    caption=\"Access Score\"\n",
    ")\n",
    "\n",
    "# Add community polygons\n",
    "folium.GeoJson(\n",
    "    geo,\n",
    "    style_function=lambda feature: {\n",
    "        'fillColor': colormap(feature['properties']['AccessScore']),\n",
    "        'color': 'black',\n",
    "        'weight': 1,\n",
    "        'fillOpacity': 0.6\n",
    "    },\n",
    "    tooltip=folium.GeoJsonTooltip(\n",
    "        fields=[\"Community\", \"StoreCount\", \"AccessCat\"],\n",
    "        aliases=[\"Community\", \"Number of Stores\", \"Access Category\"],\n",
    "        localize=True\n",
    "    )\n",
    ").add_to(m)\n",
    "\n",
    "# Add color scale\n",
    "colormap.add_to(m)\n",
    "\n",
    "# Save the map\n",
    "m.save(\"../docs/access_score_choropleth.html\")\n",
    "print(\"✅ Access score Choropleth with labels saved to ../docs/access_score_choropleth.html\")\n"
   ]
  },
  {
   "cell_type": "code",
   "execution_count": null,
   "metadata": {},
   "outputs": [],
   "source": []
  }
 ],
 "metadata": {
  "kernelspec": {
   "display_name": "Python 3 (ipykernel)",
   "language": "python",
   "name": "python3"
  },
  "language_info": {
   "codemirror_mode": {
    "name": "ipython",
    "version": 3
   },
   "file_extension": ".py",
   "mimetype": "text/x-python",
   "name": "python",
   "nbconvert_exporter": "python",
   "pygments_lexer": "ipython3",
   "version": "3.9.6"
  }
 },
 "nbformat": 4,
 "nbformat_minor": 4
}
