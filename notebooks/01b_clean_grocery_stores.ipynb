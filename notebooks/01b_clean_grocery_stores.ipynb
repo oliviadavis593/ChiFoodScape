{
 "cells": [
  {
   "cell_type": "code",
   "execution_count": 3,
   "id": "c668dca4",
   "metadata": {},
   "outputs": [
    {
     "name": "stdout",
     "output_type": "stream",
     "text": [
      "✅ Loaded food inspections dataset:\n",
      "(4503, 24)\n",
      "🔍 Top DBA Name values:\n",
      "DBA Name\n",
      "CITGO                 36\n",
      "7-ELEVEN              31\n",
      "GATEWAY NEWSTAND      18\n",
      "SHELL                 16\n",
      "MARATHON              14\n",
      "FALCON FUEL           13\n",
      "CIRCLE K              13\n",
      "BP                    12\n",
      "MOBIL                 12\n",
      "WHOLE FOODS MARKET     9\n",
      "GETIR                  8\n",
      "SOUTH LOOP MARKET      7\n",
      "FAMILY DOLLAR          7\n",
      "GOPUFF                 7\n",
      "GO GROCER              6\n",
      "GO! GROCER             6\n",
      "SAVE A LOT             6\n",
      "BUYK                   6\n",
      "ALDI                   5\n",
      "MUNCHIES               5\n",
      "Name: count, dtype: int64\n",
      "✅ Labeled grocery store data saved to ../data/cleaned/grocery_stores_cleaned_v1.csv\n",
      "                   DBA Name  IS_REAL_GROCERY  IS_JUNK_STORE\n",
      "2217     Jeff Food & Liquor            False          False\n",
      "2685  B & B Supermarket Llc             True          False\n",
      "546             Home Run Bp            False          False\n",
      "1326                     Bp            False          False\n",
      "4213     Bp Gas & Food Mart            False           True\n",
      "2462     Cvs/Pharmacy #8511            False           True\n",
      "2449      Citgo Gas Station            False           True\n",
      "1014              Food Town            False          False\n",
      "2298          Aldi Inc. #96             True          False\n",
      "1202     Whole Foods Market             True          False\n"
     ]
    }
   ],
   "source": [
    "import pandas as pd\n",
    "import os\n",
    "\n",
    "# Set paths\n",
    "RAW_PATH = '../data/cleaned/grocery_stores_v1_curated.csv'\n",
    "CLEAN_PATH = '../data/cleaned/grocery_stores_cleaned_v1.csv'\n",
    "\n",
    "# Load the dataset\n",
    "df = pd.read_csv(RAW_PATH)\n",
    "print(\"✅ Loaded food inspections dataset:\")\n",
    "print(df.shape)\n",
    "df.head()\n",
    "\n",
    "# Optional: Look at common store names\n",
    "print(\"🔍 Top DBA Name values:\")\n",
    "print(df['DBA Name'].str.upper().value_counts().head(20))\n",
    "\n",
    "# Create \"junk store\" keywords list\n",
    "junk_keywords = [\n",
    "    'DOLLAR', '7-ELEVEN', '7 ELEVEN', 'MOBIL', 'SHELL', 'CIRCLE K',\n",
    "    'GAS', 'CONVENIENCE', 'MINI MART', 'WALGREENS', 'CVS'\n",
    "]\n",
    "\n",
    "# Standardize store names\n",
    "df['DBA_NAME_CLEAN'] = df['DBA Name'].str.upper()\n",
    "\n",
    "# Flag junk vendors\n",
    "df['IS_JUNK_STORE'] = df['DBA_NAME_CLEAN'].apply(\n",
    "    lambda name: any(junk in name for junk in junk_keywords)\n",
    ")\n",
    "\n",
    "# Flag likely full-service grocery stores\n",
    "grocery_keywords = ['ALDI', 'JEWEL', 'MARIANO', 'WHOLE FOODS', 'FOOD MARKET', 'SUPERMARKET']\n",
    "df['IS_REAL_GROCERY'] = df['DBA_NAME_CLEAN'].apply(\n",
    "    lambda name: any(grocery in name for grocery in grocery_keywords)\n",
    ")\n",
    "\n",
    "# Save the labeled dataset\n",
    "os.makedirs(os.path.dirname(CLEAN_PATH), exist_ok=True)\n",
    "df.to_csv(CLEAN_PATH, index=False)\n",
    "\n",
    "print(f\"✅ Labeled grocery store data saved to {CLEAN_PATH}\")\n",
    "print(df[['DBA Name', 'IS_REAL_GROCERY', 'IS_JUNK_STORE']].sample(10))\n"
   ]
  },
  {
   "cell_type": "code",
   "execution_count": null,
   "id": "24423f9c-290b-4e3f-908a-aa44c042a621",
   "metadata": {},
   "outputs": [],
   "source": []
  }
 ],
 "metadata": {
  "kernelspec": {
   "display_name": "Python 3 (ipykernel)",
   "language": "python",
   "name": "python3"
  },
  "language_info": {
   "codemirror_mode": {
    "name": "ipython",
    "version": 3
   },
   "file_extension": ".py",
   "mimetype": "text/x-python",
   "name": "python",
   "nbconvert_exporter": "python",
   "pygments_lexer": "ipython3",
   "version": "3.9.6"
  }
 },
 "nbformat": 4,
 "nbformat_minor": 5
}
