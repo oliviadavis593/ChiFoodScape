{
 "cells": [
  {
   "cell_type": "code",
   "execution_count": 8,
   "metadata": {
    "vscode": {
     "languageId": "plaintext"
    }
   },
   "outputs": [
    {
     "name": "stdout",
     "output_type": "stream",
     "text": [
      "🔎 Found 76 reviewed neighborhood files\n",
      "✅ Merged and saved to ../data/cleaned/grocery_stores_cleaned_v1.csv\n"
     ]
    },
    {
     "name": "stderr",
     "output_type": "stream",
     "text": [
      "/var/folders/kq/gfxgwrtd7v9d9mynbcw17s4w0000gn/T/ipykernel_95472/2193473368.py:30: FutureWarning: Setting an item of incompatible dtype is deprecated and will raise an error in a future version of pandas. Value '[True True True ... True 'TRUE' False]' has dtype incompatible with bool, please explicitly cast to a compatible dtype first.\n",
      "  master_df.loc[\n"
     ]
    }
   ],
   "source": [
    "import pandas as pd\n",
    "import os\n",
    "from glob import glob\n",
    "\n",
    "# Paths\n",
    "REVIEW_FOLDER = \"../data/unclassified_review/\"\n",
    "MASTER_FILE = \"../data/cleaned/grocery_stores_v1_curated.csv\"\n",
    "OUTPUT_FILE = \"../data/cleaned/grocery_stores_cleaned_v1.csv\"\n",
    "\n",
    "# 1. Load master dataset\n",
    "master_df = pd.read_csv(MASTER_FILE)\n",
    "\n",
    "# 2. Load all reviewed unclassified CSVs\n",
    "reviewed_files = glob(os.path.join(REVIEW_FOLDER, \"unclassified_*.csv\"))\n",
    "print(f\"🔎 Found {len(reviewed_files)} reviewed neighborhood files\")\n",
    "\n",
    "reviewed_all = pd.concat([pd.read_csv(f) for f in reviewed_files], ignore_index=True)\n",
    "\n",
    "# 3. Clean up index columns if needed\n",
    "if 'Unnamed: 0' in reviewed_all.columns:\n",
    "    reviewed_all = reviewed_all.drop(columns=['Unnamed: 0'])\n",
    "\n",
    "# 4. Set index for updating (assumes ADDRESS_CLEAN + DBA_NAME_CLEAN are unique together)\n",
    "reviewed_all['key'] = reviewed_all['ADDRESS_CLEAN'].str.upper().str.strip() + \"::\" + reviewed_all['DBA_NAME_CLEAN'].str.upper().str.strip()\n",
    "master_df['key'] = master_df['ADDRESS_CLEAN'].str.upper().str.strip() + \"::\" + master_df['DBA_NAME_CLEAN'].str.upper().str.strip()\n",
    "\n",
    "# 5. Merge reviewed decisions back into master\n",
    "cols_to_update = ['IS_REAL_GROCERY', 'IS_JUNK_STORE', 'IS_REVIEWED_REAL', 'REVIEW_NOTES']\n",
    "for col in cols_to_update:\n",
    "    master_df.loc[\n",
    "        master_df['key'].isin(reviewed_all['key']),\n",
    "        col\n",
    "    ] = master_df.loc[\n",
    "        master_df['key'].isin(reviewed_all['key'])\n",
    "    ]['key'].map(\n",
    "        reviewed_all.set_index('key')[col]\n",
    "    )\n",
    "\n",
    "# 6. Drop the helper key column\n",
    "master_df = master_df.drop(columns=['key'])\n",
    "\n",
    "# 7. Save cleaned version\n",
    "master_df.to_csv(OUTPUT_FILE, index=False)\n",
    "print(f\"✅ Merged and saved to {OUTPUT_FILE}\")\n"
   ]
  },
  {
   "cell_type": "code",
   "execution_count": null,
   "metadata": {},
   "outputs": [],
   "source": []
  }
 ],
 "metadata": {
  "kernelspec": {
   "display_name": "Python 3 (ipykernel)",
   "language": "python",
   "name": "python3"
  },
  "language_info": {
   "codemirror_mode": {
    "name": "ipython",
    "version": 3
   },
   "file_extension": ".py",
   "mimetype": "text/x-python",
   "name": "python",
   "nbconvert_exporter": "python",
   "pygments_lexer": "ipython3",
   "version": "3.9.6"
  }
 },
 "nbformat": 4,
 "nbformat_minor": 4
}
