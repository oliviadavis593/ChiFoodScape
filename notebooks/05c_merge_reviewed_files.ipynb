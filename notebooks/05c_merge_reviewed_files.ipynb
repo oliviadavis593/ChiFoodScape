{
 "cells": [
  {
   "cell_type": "code",
   "execution_count": null,
   "metadata": {
    "vscode": {
     "languageId": "plaintext"
    }
   },
   "outputs": [],
   "source": [
    "import pandas as pd\n",
    "import os\n",
    "\n",
    "# Load the original dataset\n",
    "df = pd.read_csv(\"../data/cleaned/grocery_stores_v1_curated.csv\")\n",
    "\n",
    "# Directory where reviewed files are saved\n",
    "review_dir = \"../data/review/\"\n",
    "review_files = [f for f in os.listdir(review_dir) if f.endswith(\".csv\")]\n",
    "\n",
    "# Track total records updated\n",
    "updated_count = 0\n",
    "\n",
    "for file in review_files:\n",
    "    review_path = os.path.join(review_dir, file)\n",
    "    reviewed_df = pd.read_csv(review_path)\n",
    "    \n",
    "    # Merge updates into main dataframe\n",
    "    for idx, row in reviewed_df.iterrows():\n",
    "        mask = (df['DBA Name'] == row['DBA Name']) & (df['Address'] == row['Address'])\n",
    "        df.loc[mask, 'IS_REAL_GROCERY'] = row.get('IS_REAL_GROCERY', False)\n",
    "        df.loc[mask, 'IS_JUNK_STORE'] = row.get('IS_JUNK_STORE', False)\n",
    "        updated_count += 1\n",
    "    \n",
    "    print(f\"✅ Merged {len(reviewed_df)} records from {file}\")\n",
    "\n",
    "# Save updated dataset\n",
    "output_path = \"../data/cleaned/grocery_stores_v1_curated.csv\"\n",
    "df.to_csv(output_path, index=False)\n",
    "print(f\"🎉 Updated dataset saved to {output_path}\")\n",
    "print(f\"🔎 Total records updated: {updated_count}\")\n"
   ]
  }
 ],
 "metadata": {
  "language_info": {
   "name": "python"
  }
 },
 "nbformat": 4,
 "nbformat_minor": 2
}
