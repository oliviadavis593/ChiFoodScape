{
 "cells": [
  {
   "cell_type": "code",
   "execution_count": 2,
   "id": "ad10525f",
   "metadata": {
    "scrolled": true
   },
   "outputs": [
    {
     "name": "stdout",
     "output_type": "stream",
     "text": [
      "📊 Columns: ['DBA Name', 'Address', 'City', 'State', 'Zip', 'Inspection Date', 'Results', 'Violations', 'Latitude', 'Longitude', 'DBA_NAME_CLEAN', 'ADDRESS_CLEAN', 'IS_JUNK_STORE', 'IS_REAL_GROCERY', 'HAS_PRODUCE_FLAG', 'geometry', 'index_right', 'Community', 'shape_area', 'area_num_1', 'AreaNumber', 'shape_len', 'IS_REVIEWED_REAL', 'REVIEW_NOTES']\n",
      "✅ Loaded 4505 rows from clean dataset\n",
      "📊 Columns in DataFrame: ['DBA Name', 'Address', 'City', 'State', 'Zip', 'Inspection Date', 'Results', 'Violations', 'Latitude', 'Longitude', 'DBA_NAME_CLEAN', 'ADDRESS_CLEAN', 'IS_JUNK_STORE', 'IS_REAL_GROCERY', 'HAS_PRODUCE_FLAG', 'geometry', 'index_right', 'Community', 'shape_area', 'area_num_1', 'AreaNumber', 'shape_len', 'IS_REVIEWED_REAL', 'REVIEW_NOTES']\n",
      "✅ Map saved to: ../docs/grocery_stores_chicago_map_v1.html\n"
     ]
    }
   ],
   "source": [
    "import pandas as pd\n",
    "import folium\n",
    "from folium.plugins import MarkerCluster\n",
    "import os\n",
    "\n",
    "CLEANED_DATA = '../data/cleaned/grocery_stores_cleaned_v3.csv'\n",
    "MAP_OUTPUT = '../docs/grocery_stores_chicago_map_v1.html'\n",
    "\n",
    "# Load Cleaned Dataset\n",
    "df = pd.read_csv(CLEANED_DATA)\n",
    "print(\"📊 Columns:\", df.columns.tolist())\n",
    "print(f\"✅ Loaded {len(df)} rows from clean dataset\")\n",
    "print(\"📊 Columns in DataFrame:\", df.columns.tolist())\n",
    "\n",
    "# Ensure correct data types\n",
    "df['IS_REAL_GROCERY'] = df['IS_REAL_GROCERY'].astype(bool)\n",
    "df['IS_JUNK_STORE'] = df['IS_JUNK_STORE'].astype(bool)\n",
    "\n",
    "# Create base map\n",
    "m = folium.Map(location=[41.8781, -87.6298], zoom_start=11)\n",
    "\n",
    "# Create Layer Groups WITH Clustering\n",
    "real_layer = folium.FeatureGroup(name='🟢 Real Grocery Stores')\n",
    "junk_layer = folium.FeatureGroup(name='🔴 Junk Stores')\n",
    "unknown_layer = folium.FeatureGroup(name='⚪ Unclassified Stores')\n",
    "\n",
    "real_cluster = MarkerCluster().add_to(real_layer)\n",
    "junk_cluster = MarkerCluster().add_to(junk_layer)\n",
    "unknown_cluster = MarkerCluster().add_to(unknown_layer)\n",
    "\n",
    "# Add markers with cluster logic\n",
    "for _, row in df.iterrows():\n",
    "    lat, lon = row['Latitude'], row['Longitude']\n",
    "    popup = f\"<b>{row['DBA Name']}</b><br>{row['Address']}, {row['City']} {row['Zip']}\"\n",
    "    \n",
    "    icon_color = 'green' if row['IS_REAL_GROCERY'] else 'red' if row['IS_JUNK_STORE'] else 'gray'\n",
    "    icon_type = 'shopping-cart' if row['IS_REAL_GROCERY'] else 'remove' if row['IS_JUNK_STORE'] else 'question'\n",
    "    \n",
    "    marker = folium.Marker(\n",
    "        location=[lat, lon],\n",
    "        popup=popup,\n",
    "        icon=folium.Icon(color=icon_color, icon=icon_type, prefix='fa')\n",
    "    )\n",
    "\n",
    "    if row['IS_REAL_GROCERY']:\n",
    "        marker.add_to(real_cluster)\n",
    "    elif row['IS_JUNK_STORE']:\n",
    "        marker.add_to(junk_cluster)\n",
    "    else:\n",
    "        marker.add_to(unknown_cluster)\n",
    "\n",
    "# Add to map\n",
    "real_layer.add_to(m)\n",
    "junk_layer.add_to(m)\n",
    "unknown_layer.add_to(m)\n",
    "\n",
    "# Layer Control\n",
    "folium.LayerControl(collapsed=False).add_to(m)\n",
    "\n",
    "# Save map to file\n",
    "os.makedirs(os.path.dirname(MAP_OUTPUT), exist_ok=True)\n",
    "m.save(MAP_OUTPUT)\n",
    "print(f\"✅ Map saved to: {MAP_OUTPUT}\")\n"
   ]
  },
  {
   "cell_type": "code",
   "execution_count": null,
   "id": "e0bcbf63-6a19-4101-9f0f-e571a61c5813",
   "metadata": {},
   "outputs": [],
   "source": []
  },
  {
   "cell_type": "code",
   "execution_count": null,
   "id": "e0722756-3148-4182-b808-e7e6b0268434",
   "metadata": {},
   "outputs": [],
   "source": []
  }
 ],
 "metadata": {
  "kernelspec": {
   "display_name": "Python 3 (ipykernel)",
   "language": "python",
   "name": "python3"
  },
  "language_info": {
   "codemirror_mode": {
    "name": "ipython",
    "version": 3
   },
   "file_extension": ".py",
   "mimetype": "text/x-python",
   "name": "python",
   "nbconvert_exporter": "python",
   "pygments_lexer": "ipython3",
   "version": "3.9.6"
  }
 },
 "nbformat": 4,
 "nbformat_minor": 5
}
