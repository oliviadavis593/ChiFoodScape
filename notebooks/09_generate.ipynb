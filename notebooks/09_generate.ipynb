{
 "cells": [
  {
   "cell_type": "code",
   "execution_count": 1,
   "metadata": {
    "vscode": {
     "languageId": "plaintext"
    }
   },
   "outputs": [
    {
     "name": "stdout",
     "output_type": "stream",
     "text": [
      "✅ Saved: ../docs/grocery_stores_cleaned_v4.json\n"
     ]
    }
   ],
   "source": [
    "import pandas as pd\n",
    "\n",
    "v4_csv = '../data/cleaned/grocery_stores_cleaned_v4.csv'\n",
    "v4_json = '../docs/grocery_stores_cleaned_v4.json'  # update path as needed\n",
    "\n",
    "df = pd.read_csv(v4_csv)\n",
    "df.to_json(v4_json, orient='records')\n",
    "\n",
    "print(f\"✅ Saved: {v4_json}\")"
   ]
  },
  {
   "cell_type": "code",
   "execution_count": null,
   "metadata": {},
   "outputs": [],
   "source": []
  }
 ],
 "metadata": {
  "kernelspec": {
   "display_name": "🤖 Chi Food Access (venv)",
   "language": "python",
   "name": "chi-access-venv"
  },
  "language_info": {
   "codemirror_mode": {
    "name": "ipython",
    "version": 3
   },
   "file_extension": ".py",
   "mimetype": "text/x-python",
   "name": "python",
   "nbconvert_exporter": "python",
   "pygments_lexer": "ipython3",
   "version": "3.9.6"
  }
 },
 "nbformat": 4,
 "nbformat_minor": 4
}
