{
 "cells": [
  {
   "cell_type": "code",
   "execution_count": 7,
   "metadata": {
    "vscode": {
     "languageId": "plaintext"
    }
   },
   "outputs": [
    {
     "name": "stdout",
     "output_type": "stream",
     "text": [
      "🔄  Base master : /Users/archangel/Desktop/chi-food-access-map/data/cleaned/grocery_stores_cleaned_v3.csv\n",
      "📂  Fix-ups dir : /Users/archangel/Desktop/chi-food-access-map/data/review_logs\n",
      "💾  Writing to : /Users/archangel/Desktop/chi-food-access-map/data/cleaned/grocery_stores_cleaned_v4.csv\n",
      "Master rows: 4505\n",
      "Fix-up rows : 603\n",
      "→  Final merged rows: 4506\n"
     ]
    },
    {
     "name": "stderr",
     "output_type": "stream",
     "text": [
      "/var/folders/kq/gfxgwrtd7v9d9mynbcw17s4w0000gn/T/ipykernel_92179/3014078212.py:42: FutureWarning: The behavior of DataFrame concatenation with empty or all-NA entries is deprecated. In a future version, this will no longer exclude empty or all-NA columns when determining the result dtypes. To retain the old behavior, exclude the relevant entries before the concat operation.\n",
      "  fixups_all = pd.concat(fixups, ignore_index=True)\n"
     ]
    },
    {
     "data": {
      "text/html": [
       "<div>\n",
       "<style scoped>\n",
       "    .dataframe tbody tr th:only-of-type {\n",
       "        vertical-align: middle;\n",
       "    }\n",
       "\n",
       "    .dataframe tbody tr th {\n",
       "        vertical-align: top;\n",
       "    }\n",
       "\n",
       "    .dataframe thead th {\n",
       "        text-align: right;\n",
       "    }\n",
       "</style>\n",
       "<table border=\"1\" class=\"dataframe\">\n",
       "  <thead>\n",
       "    <tr style=\"text-align: right;\">\n",
       "      <th></th>\n",
       "      <th>IS_REAL_GROCERY</th>\n",
       "      <th>IS_JUNK_STORE</th>\n",
       "      <th>count</th>\n",
       "    </tr>\n",
       "  </thead>\n",
       "  <tbody>\n",
       "    <tr>\n",
       "      <th>0</th>\n",
       "      <td>False</td>\n",
       "      <td>True</td>\n",
       "      <td>300</td>\n",
       "    </tr>\n",
       "    <tr>\n",
       "      <th>1</th>\n",
       "      <td>False</td>\n",
       "      <td>TRUE</td>\n",
       "      <td>2</td>\n",
       "    </tr>\n",
       "    <tr>\n",
       "      <th>2</th>\n",
       "      <td>False</td>\n",
       "      <td>False</td>\n",
       "      <td>8</td>\n",
       "    </tr>\n",
       "    <tr>\n",
       "      <th>3</th>\n",
       "      <td>False</td>\n",
       "      <td>TRUE</td>\n",
       "      <td>99</td>\n",
       "    </tr>\n",
       "    <tr>\n",
       "      <th>4</th>\n",
       "      <td>False</td>\n",
       "      <td>True</td>\n",
       "      <td>3787</td>\n",
       "    </tr>\n",
       "    <tr>\n",
       "      <th>5</th>\n",
       "      <td>True</td>\n",
       "      <td>False</td>\n",
       "      <td>278</td>\n",
       "    </tr>\n",
       "    <tr>\n",
       "      <th>6</th>\n",
       "      <td>True</td>\n",
       "      <td>True</td>\n",
       "      <td>25</td>\n",
       "    </tr>\n",
       "    <tr>\n",
       "      <th>7</th>\n",
       "      <td>True</td>\n",
       "      <td>False</td>\n",
       "      <td>7</td>\n",
       "    </tr>\n",
       "  </tbody>\n",
       "</table>\n",
       "</div>"
      ],
      "text/plain": [
       "   IS_REAL_GROCERY IS_JUNK_STORE  count\n",
       "0            False          True    300\n",
       "1            False          TRUE      2\n",
       "2            False         False      8\n",
       "3            False          TRUE     99\n",
       "4            False          True   3787\n",
       "5             True         False    278\n",
       "6             True          True     25\n",
       "7             True         False      7"
      ]
     },
     "metadata": {},
     "output_type": "display_data"
    },
    {
     "name": "stdout",
     "output_type": "stream",
     "text": [
      "✅  Saved: /Users/archangel/Desktop/chi-food-access-map/data/cleaned/grocery_stores_cleaned_v4.csv\n"
     ]
    }
   ],
   "source": [
    "# %% [markdown]\n",
    "# # 09 · Merge real-store fix-ups  \n",
    "# \n",
    "# Combines every `*_fixups.csv` in **data/review_logs/** with the\n",
    "# current master (v3) and writes an *in-progress* cleaned file:\n",
    "# \n",
    "# * `data/cleaned/grocery_stores_cleaned_v4.csv`\n",
    "# \n",
    "# Run this notebook anytime you’ve finished reviewing another\n",
    "# community area and want to see the maps update.\n",
    "\n",
    "# %%\n",
    "import pandas as pd\n",
    "from pathlib import Path\n",
    "\n",
    "# ---- paths -------------------------------------------------------------\n",
    "ROOT = Path(\"..\").resolve() # repo root (one level up)\n",
    "MASTER_IN = ROOT / \"data\" / \"cleaned\" / \"grocery_stores_cleaned_v3.csv\"\n",
    "FIXUP_DIR = ROOT / \"data\" / \"review_logs\"\n",
    "OUT_FILE = ROOT / \"data\" / \"cleaned\" / \"grocery_stores_cleaned_v4.csv\"\n",
    "\n",
    "print(f\"🔄  Base master : {MASTER_IN}\")\n",
    "print(f\"📂  Fix-ups dir : {FIXUP_DIR}\")\n",
    "print(f\"💾  Writing to : {OUT_FILE}\")\n",
    "\n",
    "# %%\n",
    "# ---- load master -------------------------------------------------------\n",
    "master = pd.read_csv(MASTER_IN, dtype={\"Zip\": str})\n",
    "print(\"Master rows:\", len(master))\n",
    "\n",
    "# %%\n",
    "# ---- load & concatenate all *_fixups.csv ------------------------------\n",
    "fixups = []\n",
    "for csv in FIXUP_DIR.glob(\"*_fixups.csv\"):\n",
    "    df = pd.read_csv(csv, dtype={\"Zip\": str})\n",
    "    df[\"__source_csv\"] = csv.name          # keep a breadcrumb column\n",
    "    fixups.append(df)\n",
    "    \n",
    "if not fixups:\n",
    "    raise ValueError(\"No fix-up CSVs found!  Add some files to review_logs/ first.\")\n",
    "\n",
    "fixups_all = pd.concat(fixups, ignore_index=True)\n",
    "print(\"Fix-up rows :\", len(fixups_all))\n",
    "\n",
    "# %%\n",
    "# ---- merge logic -------------------------------------------------------\n",
    "# We *trust* the fix-up rows: drop matching master rows, then concat.\n",
    "key_cols = [\"DBA_NAME_CLEAN\", \"ADDRESS_CLEAN\"]     # whatever uniquely IDs each store\n",
    "\n",
    "master_no_dupes = master.merge(\n",
    "    fixups_all[key_cols], how=\"left\", indicator=True, on=key_cols\n",
    ").query(\"_merge == 'left_only'\").drop(columns=[\"_merge\"])\n",
    "\n",
    "merged = pd.concat([master_no_dupes, fixups_all], ignore_index=True)\n",
    "\n",
    "print(\"→  Final merged rows:\", len(merged))\n",
    "\n",
    "# Quick sanity check\n",
    "display(\n",
    "    merged.groupby([\"IS_REAL_GROCERY\", \"IS_JUNK_STORE\"])\n",
    "          .size()\n",
    "          .rename(\"count\")\n",
    "          .reset_index()\n",
    ")\n",
    "\n",
    "# %%\n",
    "# ---- save --------------------------------------------------------------\n",
    "OUT_FILE.parent.mkdir(parents=True, exist_ok=True)\n",
    "merged.to_csv(OUT_FILE, index=False)\n",
    "print(\"✅  Saved:\", OUT_FILE)\n"
   ]
  },
  {
   "cell_type": "code",
   "execution_count": 6,
   "metadata": {
    "vscode": {
     "languageId": "plaintext"
    }
   },
   "outputs": [
    {
     "name": "stdout",
     "output_type": "stream",
     "text": [
      "🗺️  Refreshed JSON for v2 map → /Users/archangel/Desktop/chi-food-access-map/docs/grocery_stores_cleaned_v3.json\n"
     ]
    },
    {
     "name": "stderr",
     "output_type": "stream",
     "text": [
      "/var/folders/kq/gfxgwrtd7v9d9mynbcw17s4w0000gn/T/ipykernel_92179/669313211.py:16: FutureWarning: Downcasting object dtype arrays on .fillna, .ffill, .bfill is deprecated and will change in a future version. Call result.infer_objects(copy=False) instead. To opt-in to the future behavior, set `pd.set_option('future.no_silent_downcasting', True)`\n",
      "  json_df[col]\n"
     ]
    }
   ],
   "source": []
  },
  {
   "cell_type": "code",
   "execution_count": null,
   "metadata": {},
   "outputs": [],
   "source": []
  }
 ],
 "metadata": {
  "kernelspec": {
   "display_name": "🤖 Chi Food Access (venv)",
   "language": "python",
   "name": "chi-access-venv"
  },
  "language_info": {
   "codemirror_mode": {
    "name": "ipython",
    "version": 3
   },
   "file_extension": ".py",
   "mimetype": "text/x-python",
   "name": "python",
   "nbconvert_exporter": "python",
   "pygments_lexer": "ipython3",
   "version": "3.9.6"
  }
 },
 "nbformat": 4,
 "nbformat_minor": 4
}
