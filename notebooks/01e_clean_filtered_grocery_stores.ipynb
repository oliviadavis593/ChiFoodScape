{
 "cells": [
  {
   "cell_type": "code",
   "execution_count": 1,
   "metadata": {
    "vscode": {
     "languageId": "plaintext"
    }
   },
   "outputs": [
    {
     "name": "stdout",
     "output_type": "stream",
     "text": [
      "✅ Loaded portal export: 2304 rows\n",
      "📉 Deduplicated to: 1612 unique businesses\n",
      "✅ Cleaned dataset saved to: ../data/cleaned/grocery_stores_cleaned_v1.csv\n"
     ]
    }
   ],
   "source": [
    "# Imports\n",
    "import pandas as pd\n",
    "import os\n",
    "\n",
    "# Paths\n",
    "RAW_PATH = '../data/raw/filtered_grocery_stores_v1.csv'\n",
    "CLEAN_PATH = '../data/cleaned/grocery_stores_cleaned_v1.csv'\n",
    "\n",
    "# Load and check shape\n",
    "df = pd.read_csv(RAW_PATH)\n",
    "print(\"✅ Loaded portal export:\", len(df), \"rows\")\n",
    "\n",
    "# Drop invalid coords\n",
    "df = df.dropna(subset=['Latitude', 'Longitude'])\n",
    "\n",
    "# Deduplicate by address + DBA name\n",
    "df = df.drop_duplicates(subset=['Address', 'DBA Name'])\n",
    "print(\"📉 Deduplicated to:\", len(df), \"unique businesses\")\n",
    "\n",
    "# Save clean copy\n",
    "os.makedirs(os.path.dirname(CLEAN_PATH), exist_ok=True)\n",
    "df.to_csv(CLEAN_PATH, index=False)\n",
    "print(\"✅ Cleaned dataset saved to:\", CLEAN_PATH)\n"
   ]
  },
  {
   "cell_type": "code",
   "execution_count": null,
   "metadata": {},
   "outputs": [],
   "source": []
  }
 ],
 "metadata": {
  "kernelspec": {
   "display_name": "Python 3 (ipykernel)",
   "language": "python",
   "name": "python3"
  },
  "language_info": {
   "codemirror_mode": {
    "name": "ipython",
    "version": 3
   },
   "file_extension": ".py",
   "mimetype": "text/x-python",
   "name": "python",
   "nbconvert_exporter": "python",
   "pygments_lexer": "ipython3",
   "version": "3.9.6"
  }
 },
 "nbformat": 4,
 "nbformat_minor": 4
}
