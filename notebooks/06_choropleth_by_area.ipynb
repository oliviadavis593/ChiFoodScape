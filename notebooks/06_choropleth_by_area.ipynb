{
 "cells": [
  {
   "cell_type": "code",
   "execution_count": 17,
   "metadata": {
    "vscode": {
     "languageId": "plaintext"
    }
   },
   "outputs": [
    {
     "name": "stdout",
     "output_type": "stream",
     "text": [
      "✅ Loaded: 4503 rows\n",
      "✅ Sample counts:\n",
      "          Community  StoreCount\n",
      "0           AUSTIN          82\n",
      "1       WEST RIDGE          49\n",
      "2   SOUTH LAWNDALE          44\n",
      "3   BELMONT CRAGIN          41\n",
      "4  NEAR NORTH SIDE          38\n",
      "✅ Geo columns: ['Community', 'shape_area', 'area_num_1', 'area_numbe', 'shape_len', 'geometry']\n",
      "count    77.000000\n",
      "mean     17.025974\n",
      "std      14.306765\n",
      "min       0.000000\n",
      "25%       6.000000\n",
      "50%      14.000000\n",
      "75%      26.000000\n",
      "max      82.000000\n",
      "Name: StoreCount, dtype: float64\n",
      "✅ Choropleth map saved to: ../maps/grocery_choropleth_by_area.html\n"
     ]
    }
   ],
   "source": [
    "# 📦 Imports\n",
    "import geopandas as gpd\n",
    "import pandas as pd\n",
    "import folium\n",
    "from branca.colormap import linear\n",
    "from branca.colormap import StepColormap\n",
    "\n",
    "# 📥 Load cleaned + joined grocery store data\n",
    "df = pd.read_csv(\"../data/cleaned/grocery_stores_with_community.csv\")\n",
    "print(f\"✅ Loaded: {df.shape[0]} rows\")\n",
    "\n",
    "# 🧼 Filter to only real grocery stores\n",
    "real_grocery = df[df[\"IS_REAL_GROCERY\"] == True]\n",
    "\n",
    "# 📊 Count stores by community\n",
    "grocery_counts = (\n",
    "    real_grocery[\"Community\"]\n",
    "    .value_counts()\n",
    "    .reset_index()\n",
    ")\n",
    "grocery_counts.columns = [\"Community\", \"StoreCount\"]\n",
    "print(\"✅ Sample counts:\\n\", grocery_counts.head())\n",
    "\n",
    "# 🌍 Load Community Area GeoJSON\n",
    "geo = gpd.read_file(\"../data/geo/community_areas.geojson\")\n",
    "geo = geo.rename(columns={\"community\": \"Community\"})  # Rename to match merge key\n",
    "print(\"✅ Geo columns:\", geo.columns.tolist())\n",
    "\n",
    "# 🔗 Merge counts into polygons\n",
    "geo = geo.merge(grocery_counts, on=\"Community\", how=\"left\")\n",
    "geo[\"StoreCount\"] = geo[\"StoreCount\"].fillna(0)\n",
    "\n",
    "# 🗺️ Create map\n",
    "m = folium.Map(location=[41.8781, -87.6298], zoom_start=11)\n",
    "\n",
    "# Ensure values are treated as numbers\n",
    "geo[\"StoreCount\"] = pd.to_numeric(geo[\"StoreCount\"], errors=\"coerce\").fillna(0).astype(float)\n",
    "print(geo[\"StoreCount\"].describe())\n",
    "\n",
    "\n",
    "# 🎨 Define color scale\n",
    "choropleth_scale = StepColormap(\n",
    "    colors=list(linear.OrRd_09.colors)[::-1],  # reversed color list\n",
    "    vmin=geo[\"StoreCount\"].min(),\n",
    "    vmax=geo[\"StoreCount\"].max(),\n",
    "    caption=\"Number of Real Grocery Stores per Community Area\"\n",
    ")\n",
    "\n",
    "# 🧩 Add choropleth layer\n",
    "folium.GeoJson(\n",
    "    geo,\n",
    "    name=\"Grocery Store Density\",\n",
    "    style_function=lambda feature: {\n",
    "        \"fillColor\": choropleth_scale(feature[\"properties\"][\"StoreCount\"]) if feature[\"properties\"][\"StoreCount\"] > 0 else \"#f0f0f0\",\n",
    "        \"color\": \"white\",\n",
    "        \"weight\": 1,\n",
    "        \"fillOpacity\": 0.65,\n",
    "    },\n",
    "    tooltip=folium.features.GeoJsonTooltip(\n",
    "        fields=[\"Community\", \"StoreCount\"],\n",
    "        aliases=[\"Community Area\", \"# of Real Grocery Stores\"],\n",
    "        localize=True\n",
    "    )\n",
    ").add_to(m)\n",
    "\n",
    "choropleth_scale.add_to(m)\n",
    "\n",
    "# 💾 Save map\n",
    "output_path = \"../maps/grocery_choropleth_by_area.html\"\n",
    "m.save(output_path)\n",
    "print(f\"✅ Choropleth map saved to: {output_path}\")\n"
   ]
  },
  {
   "cell_type": "code",
   "execution_count": null,
   "metadata": {},
   "outputs": [],
   "source": []
  },
  {
   "cell_type": "code",
   "execution_count": null,
   "metadata": {},
   "outputs": [],
   "source": []
  }
 ],
 "metadata": {
  "kernelspec": {
   "display_name": "Python 3 (ipykernel)",
   "language": "python",
   "name": "python3"
  },
  "language_info": {
   "codemirror_mode": {
    "name": "ipython",
    "version": 3
   },
   "file_extension": ".py",
   "mimetype": "text/x-python",
   "name": "python",
   "nbconvert_exporter": "python",
   "pygments_lexer": "ipython3",
   "version": "3.9.6"
  }
 },
 "nbformat": 4,
 "nbformat_minor": 4
}
