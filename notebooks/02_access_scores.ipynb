{
 "cells": [
  {
   "cell_type": "code",
   "execution_count": 3,
   "metadata": {
    "vscode": {
     "languageId": "plaintext"
    }
   },
   "outputs": [
    {
     "name": "stdout",
     "output_type": "stream",
     "text": [
      "✅ Spatial join saved ➜ ../data/cleaned/stores_with_areas.csv · rows=4,504\n"
     ]
    }
   ],
   "source": [
    "import pandas as pd, geopandas as gpd, pathlib\n",
    "\n",
    "DATA_DIR = pathlib.Path(\"../data/cleaned\")\n",
    "GEO_DIR = pathlib.Path(\"../docs\")\n",
    "STORES_CSV = DATA_DIR / \"grocery_stores_cleaned_v4.csv\"\n",
    "AREAS_GJ = GEO_DIR  / \"community_areas.geojson\"\n",
    "JOIN_OUT = DATA_DIR / \"stores_with_areas.csv\"\n",
    "\n",
    "# ── load stores (only the columns we need)\n",
    "stores = (\n",
    "    pd.read_csv(STORES_CSV, dtype={\"Zip\": str})\n",
    "      .loc[:, [\"DBA Name\", \"Address\", \"Latitude\", \"Longitude\",\n",
    "               \"Community\", \"IS_REAL_GROCERY\"]]\n",
    ")\n",
    "\n",
    "# ── cast to GeoDataFrame\n",
    "g_stores = gpd.GeoDataFrame(\n",
    "    stores,\n",
    "    geometry = gpd.points_from_xy(stores.Longitude, stores.Latitude),\n",
    "    crs      = \"EPSG:4326\"\n",
    ")\n",
    "\n",
    "# ── load polygons\n",
    "areas = gpd.read_file(AREAS_GJ)[[\"community\", \"geometry\"]]\n",
    "areas = areas.rename(columns={\"community\": \"Community\"})\n",
    "\n",
    "# ── spatial join\n",
    "joined = gpd.sjoin(g_stores, areas, how=\"inner\", predicate=\"within\")\n",
    "\n",
    "#  keep the store-side community name and drop the duplicate column\n",
    "joined = (\n",
    "    joined\n",
    "      .rename(columns={\"Community_left\": \"Community\"})\n",
    "      .drop(columns=[\"Community_right\", \"index_right\"])\n",
    ")\n",
    "\n",
    "joined.to_csv(JOIN_OUT, index=False)\n",
    "print(f\"✅ Spatial join saved ➜ {JOIN_OUT} · rows={len(joined):,}\")"
   ]
  },
  {
   "cell_type": "code",
   "execution_count": 18,
   "metadata": {
    "vscode": {
     "languageId": "plaintext"
    }
   },
   "outputs": [
    {
     "name": "stdout",
     "output_type": "stream",
     "text": [
      "🏷  Communities scored: 70\n",
      "✅ GeoJSON written ➜ ../data/cleaned/community_area_scores.geojson\n"
     ]
    }
   ],
   "source": [
    "import numpy as np\n",
    "\n",
    "# keep REAL grocery stores only\n",
    "real_only = joined.query(\"IS_REAL_GROCERY\")\n",
    "\n",
    "# aggregate counts\n",
    "agg = (\n",
    "    real_only\n",
    "      .groupby(\"Community\")\n",
    "      .size()\n",
    "      .rename(\"StoreCount\")\n",
    "      .reset_index()\n",
    ")\n",
    "\n",
    "# turn counts → 0-4 score\n",
    "bins   = [0, 1, 3, 6, 10, np.inf]        # 0,1-2,3-5,6-9,10+\n",
    "scores = pd.cut(\n",
    "    agg.StoreCount,\n",
    "    bins=bins,\n",
    "    labels=[0, 1, 2, 3, 4],\n",
    "    right=False\n",
    ").astype(int)\n",
    "agg[\"AccessScore\"] = scores\n",
    "\n",
    "print(f\"🏷  Communities scored: {len(agg)}\")\n",
    "\n",
    "# merge back onto the polygon layer so Folium can read it\n",
    "areas_scored = (\n",
    "    areas.merge(agg, on=\"Community\", how=\"left\")\n",
    "         .fillna({\"StoreCount\": 0, \"AccessScore\": 0})\n",
    ")\n",
    "\n",
    "out_gj = DATA_DIR / \"community_area_scores.geojson\"\n",
    "areas_scored.to_file(out_gj, driver=\"GeoJSON\")\n",
    "print(f\"✅ GeoJSON written ➜ {out_gj}\")\n"
   ]
  },
  {
   "cell_type": "code",
   "execution_count": 19,
   "metadata": {
    "vscode": {
     "languageId": "plaintext"
    }
   },
   "outputs": [
    {
     "name": "stdout",
     "output_type": "stream",
     "text": [
      "✅ Scores written:\n",
      "  • ../data/cleaned/community_area_scores.geojson\n",
      "  • ../data/cleaned/community_area_scores.csv\n"
     ]
    }
   ],
   "source": [
    "OUT_GJ = DATA_DIR / \"community_area_scores.geojson\"\n",
    "OUT_CSV= DATA_DIR / \"community_area_scores.csv\"\n",
    "\n",
    "# left-join so every polygon is preserved, missing → 0\n",
    "out = areas.merge(agg, on=\"Community\", how=\"left\")\n",
    "out[\"StoreCount\"]  = out.StoreCount.fillna(0).astype(int)\n",
    "out[\"AccessScore\"] = out.AccessScore.fillna(0).astype(int)\n",
    "\n",
    "out.to_file(OUT_GJ, driver=\"GeoJSON\")\n",
    "out.drop(columns=\"geometry\").to_csv(OUT_CSV, index=False)\n",
    "\n",
    "print(\"✅ Scores written:\")\n",
    "print(f\"  • {OUT_GJ}\")\n",
    "print(f\"  • {OUT_CSV}\")\n"
   ]
  },
  {
   "cell_type": "code",
   "execution_count": null,
   "metadata": {},
   "outputs": [],
   "source": []
  }
 ],
 "metadata": {
  "kernelspec": {
   "display_name": "🤖 Chi Food Access (venv)",
   "language": "python",
   "name": "chi-access-venv"
  },
  "language_info": {
   "codemirror_mode": {
    "name": "ipython",
    "version": 3
   },
   "file_extension": ".py",
   "mimetype": "text/x-python",
   "name": "python",
   "nbconvert_exporter": "python",
   "pygments_lexer": "ipython3",
   "version": "3.9.6"
  }
 },
 "nbformat": 4,
 "nbformat_minor": 4
}
