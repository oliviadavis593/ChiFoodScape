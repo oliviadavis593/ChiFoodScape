{
 "cells": [
  {
   "cell_type": "code",
   "execution_count": 1,
   "metadata": {
    "vscode": {
     "languageId": "plaintext"
    }
   },
   "outputs": [
    {
     "name": "stdout",
     "output_type": "stream",
     "text": [
      "✅ grocery_stores_cleaned_v3.json written in docs/\n"
     ]
    }
   ],
   "source": [
    "import pandas as pd\n",
    "\n",
    "\n",
    "df = pd.read_csv(\"../data/cleaned/grocery_stores_cleaned_v3.csv\")\n",
    "\n",
    "# Dump it to JSON-for‐the‐browser\n",
    "df.to_json(\n",
    "    \"../docs/grocery_stores_cleaned_v3.json\",\n",
    "    orient=\"records\",\n",
    "    force_ascii=False\n",
    ")\n",
    "print(\"✅ grocery_stores_cleaned_v3.json written in docs/\")\n"
   ]
  },
  {
   "cell_type": "code",
   "execution_count": null,
   "metadata": {},
   "outputs": [],
   "source": []
  }
 ],
 "metadata": {
  "kernelspec": {
   "display_name": "🤖 Chi Food Access (venv)",
   "language": "python",
   "name": "chi-access-venv"
  },
  "language_info": {
   "codemirror_mode": {
    "name": "ipython",
    "version": 3
   },
   "file_extension": ".py",
   "mimetype": "text/x-python",
   "name": "python",
   "nbconvert_exporter": "python",
   "pygments_lexer": "ipython3",
   "version": "3.9.6"
  }
 },
 "nbformat": 4,
 "nbformat_minor": 4
}
