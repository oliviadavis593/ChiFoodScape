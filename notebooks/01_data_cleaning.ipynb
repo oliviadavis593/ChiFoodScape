{
 "cells": [
  {
   "cell_type": "code",
   "execution_count": 7,
   "id": "ed57ab66",
   "metadata": {
    "vscode": {
     "languageId": "plaintext"
    }
   },
   "outputs": [
    {
     "name": "stdout",
     "output_type": "stream",
     "text": [
      "✅ Loaded Urban Agriculture dataset:\n",
      "(12, 1)\n",
      "📊 Original columns:\n",
      "['Urban_Farms']\n",
      "                                                                 Urban_Farms\n",
      "ADDRESS            LATITUDE      LONGITUDE                          LOCATION\n",
      "3333 S Iron Street 41.8332227100 -87.6610220800  (41.83322271, -87.66102208)\n",
      "444 W Chicago      41.8966172500 -87.6404448500  (41.89661725, -87.64044485)\n",
      "71st & Prairie     41.7656449200 -87.6184778500  (41.76564492, -87.61847785)\n",
      "58th & Wood        41.7885099000 -87.6692952400   (41.7885099, -87.66929524)\n",
      "✅ Cleaned dataset saved to ../data/cleaned/urban_agriculture_sites_cleaned.csv\n",
      "                                                      ADDRESS     LATITUDE  \\\n",
      "ADDRESS            LATITUDE      LONGITUDE           LOCATION          NaN   \n",
      "3333 S Iron Street 41.8332227100 -87.6610220800  (41.83322271  -87.6610220   \n",
      "444 W Chicago      41.8966172500 -87.6404448500  (41.89661725  -87.6404448   \n",
      "71st & Prairie     41.7656449200 -87.6184778500  (41.76564492  -87.6184778   \n",
      "58th & Wood        41.7885099000 -87.6692952400   (41.7885099  -87.6692952   \n",
      "\n",
      "                                                LONGITUDE  \n",
      "ADDRESS            LATITUDE      LONGITUDE            NaN  \n",
      "3333 S Iron Street 41.8332227100 -87.6610220800         8  \n",
      "444 W Chicago      41.8966172500 -87.6404448500         5  \n",
      "71st & Prairie     41.7656449200 -87.6184778500         5  \n",
      "58th & Wood        41.7885099000 -87.6692952400         4  \n"
     ]
    }
   ],
   "source": [
    "import pandas as pd\n",
    "import os\n",
    "\n",
    "# Set paths\n",
    "RAW_PATH = '../data/raw/urban_agriculture_sites.csv'\n",
    "CLEAN_PATH = '../data/cleaned/urban_agriculture_sites_cleaned.csv'\n",
    "\n",
    "# Load raw file\n",
    "df = pd.read_csv(RAW_PATH)\n",
    "\n",
    "print(\"✅ Loaded Urban Agriculture dataset:\")\n",
    "print(df.shape)\n",
    "print(\"📊 Original columns:\")\n",
    "print(df.columns.tolist())\n",
    "print(df.head())\n",
    "\n",
    "# Step 1: Split Urban_Farms into Address and Coordinates\n",
    "df_split = df['Urban_Farms'].str.split(',', expand=True)\n",
    "df_split.columns = ['ADDRESS', 'COORDINATES']\n",
    "\n",
    "# Step 2: Split coordinates into LATITUDE and LONGITUDE\n",
    "df_split[['LATITUDE', 'LONGITUDE']] = df_split['COORDINATES'].str.extract(r'([0-9.-]+)[),\\s]*([0-9.-]+)')\n",
    "\n",
    "\n",
    "# Drop COORDINATES column\n",
    "df_split = df_split.drop(columns=['COORDINATES'])\n",
    "\n",
    "# Save cleaned version\n",
    "os.makedirs(os.path.dirname(CLEAN_PATH), exist_ok=True)\n",
    "df_split.to_csv(CLEAN_PATH, index=False)\n",
    "\n",
    "print(\"✅ Cleaned dataset saved to\", CLEAN_PATH)\n",
    "print(df_split.head())\n"
   ]
  },
  {
   "cell_type": "code",
   "execution_count": null,
   "id": "7a11cc9c-79e4-4f5c-8e82-9b111ab0dfc3",
   "metadata": {},
   "outputs": [],
   "source": []
  },
  {
   "cell_type": "code",
   "execution_count": null,
   "id": "19a28740-b274-46ea-8ef9-2ede5cc8f5a6",
   "metadata": {},
   "outputs": [],
   "source": []
  }
 ],
 "metadata": {
  "kernelspec": {
   "display_name": "Python 3 (ipykernel)",
   "language": "python",
   "name": "python3"
  },
  "language_info": {
   "codemirror_mode": {
    "name": "ipython",
    "version": 3
   },
   "file_extension": ".py",
   "mimetype": "text/x-python",
   "name": "python",
   "nbconvert_exporter": "python",
   "pygments_lexer": "ipython3",
   "version": "3.9.6"
  }
 },
 "nbformat": 4,
 "nbformat_minor": 5
}
