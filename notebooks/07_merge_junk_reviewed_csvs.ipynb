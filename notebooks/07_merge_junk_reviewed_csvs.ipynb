{
 "cells": [
  {
   "cell_type": "code",
   "execution_count": 1,
   "metadata": {
    "vscode": {
     "languageId": "plaintext"
    }
   },
   "outputs": [
    {
     "name": "stdout",
     "output_type": "stream",
     "text": [
      "✅ Merged junk review updates saved to ../data/cleaned/grocery_stores_cleaned_v2.csv\n"
     ]
    }
   ],
   "source": [
    "import pandas as pd\n",
    "import os\n",
    "\n",
    "# Paths\n",
    "CLEANED_PATH = \"../data/cleaned/grocery_stores_cleaned_v1.csv\"\n",
    "JUNK_REVIEW_PATH = \"../data/junk_review/\"\n",
    "OUTPUT_PATH = \"../data/cleaned/grocery_stores_cleaned_v2.csv\"\n",
    "\n",
    "# Load base cleaned data\n",
    "df = pd.read_csv(CLEANED_PATH)\n",
    "\n",
    "# Load and combine all reviewed junk files\n",
    "reviewed_files = [\n",
    "    os.path.join(JUNK_REVIEW_PATH, f) \n",
    "    for f in os.listdir(JUNK_REVIEW_PATH) \n",
    "    if f.endswith(\".csv\")\n",
    "]\n",
    "\n",
    "reviewed = pd.concat([pd.read_csv(f) for f in reviewed_files], ignore_index=True)\n",
    "\n",
    "# Clean up column matching\n",
    "reviewed_subset = reviewed[['Address', 'DBA Name', 'IS_JUNK_STORE', 'REVIEW_NOTES']]\n",
    "\n",
    "# Merge updated flags into original data\n",
    "df = df.merge(\n",
    "    reviewed_subset,\n",
    "    on=['Address', 'DBA Name'],\n",
    "    how='left',\n",
    "    suffixes=('', '_REVIEW')\n",
    ")\n",
    "\n",
    "# If reviewed value exists, overwrite\n",
    "df['IS_JUNK_STORE'] = df['IS_JUNK_STORE_REVIEW'].combine_first(df['IS_JUNK_STORE'])\n",
    "df['REVIEW_NOTES'] = df['REVIEW_NOTES_REVIEW'].combine_first(df['REVIEW_NOTES'])\n",
    "\n",
    "# Drop temp columns\n",
    "df.drop(columns=[col for col in df.columns if col.endswith('_REVIEW')], inplace=True)\n",
    "\n",
    "# Save updated version\n",
    "df.to_csv(OUTPUT_PATH, index=False)\n",
    "print(f\"✅ Merged junk review updates saved to {OUTPUT_PATH}\")\n"
   ]
  },
  {
   "cell_type": "code",
   "execution_count": null,
   "metadata": {},
   "outputs": [],
   "source": []
  }
 ],
 "metadata": {
  "kernelspec": {
   "display_name": "Python 3 (ipykernel)",
   "language": "python",
   "name": "python3"
  },
  "language_info": {
   "codemirror_mode": {
    "name": "ipython",
    "version": 3
   },
   "file_extension": ".py",
   "mimetype": "text/x-python",
   "name": "python",
   "nbconvert_exporter": "python",
   "pygments_lexer": "ipython3",
   "version": "3.9.6"
  }
 },
 "nbformat": 4,
 "nbformat_minor": 4
}
